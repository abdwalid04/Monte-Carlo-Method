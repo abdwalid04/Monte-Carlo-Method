{
 "cells": [
  {
   "cell_type": "markdown",
   "id": "395a9dc6",
   "metadata": {},
   "source": [
    "<h1 style=\"font-size: 55px;text-align: center;color:#000\">Monte Carlo Method</h1>"
   ]
  },
  {
   "cell_type": "markdown",
   "id": "f37af873",
   "metadata": {},
   "source": [
    "***"
   ]
  },
  {
   "cell_type": "markdown",
   "id": "9563b8d3",
   "metadata": {},
   "source": [
    "# Realized by "
   ]
  },
  {
   "cell_type": "markdown",
   "id": "10718fb6",
   "metadata": {},
   "source": [
    "| First name | Last name |\n",
    "| :-: | :-: |\n",
    "| $\\;\\;\\;\\;\\;\\;\\;\\;\\;\\;\\;$ABDELLAH$\\;\\;\\;\\;\\;\\;\\;\\;\\;\\;\\;$ | $\\;\\;\\;\\;\\;\\;\\;\\;\\;\\;\\;$WALID$\\;\\;\\;\\;\\;\\;\\;\\;\\;\\;\\;$ |\n",
    "| $\\;\\;\\;\\;\\;\\;\\;\\;\\;\\;\\;$MOUAD$\\;\\;\\;\\;\\;\\;\\;\\;\\;\\;\\;$ | $\\;\\;\\;\\;\\;\\;\\;\\;\\;\\;\\;$MIFTAH IDRISSI$\\;\\;\\;\\;\\;\\;\\;\\;\\;\\;\\;$ |"
   ]
  },
  {
   "cell_type": "markdown",
   "id": "9d9bbe83",
   "metadata": {},
   "source": [
    "***"
   ]
  },
  {
   "cell_type": "markdown",
   "id": "4f3e3d14",
   "metadata": {},
   "source": [
    "# Table of Contents¶"
   ]
  },
  {
   "cell_type": "markdown",
   "id": "986d1059",
   "metadata": {},
   "source": [
    "* [1. What is the Monte Carlo Method?](#1.-What-is-the-Monte-Carlo-Method?)\n",
    "* [2. Why is the Monte Carlo Method important?](#2.-Why-is-the-Monte-Carlo-Method-important?)\n",
    "    * [2.1 Advantages of the Monte Carlo Method](#2.1-Advantages-of-the-Monte-Carlo-Method)\n",
    "    * [2.2 Evolution of the Monte Carlo Method](#2.2-Evolution-of-the-Monte-Carlo-Method)\n",
    "* [3. How the Monte Carlo Method works](#3.-How-the-Monte-Carlo-Method-works)\n",
    "    * [3.1 The Monte Carlo Method compared to Machine Learning](#3.1-The-Monte-Carlo-Method-compared-to-Machine-Learning)\n",
    "* [4. Components of a Monte Carlo Method](#4.-Components-of-a-Monte-Carlo-Method)\n",
    "    * [4.1 Input variables](#4.1-Input-variables)\n",
    "    * [4.2 Output variable](#4.2-Output-variable)\n",
    "    * [4.3 Mathematical model](#4.3-Mathematical-model)\n",
    "* [5. Probability distributions in the Monte Carlo Method](#5.-Probability-distributions-in-the-Monte-Carlo-Method)\n",
    "    * [5.1 Normal distribution](#5.1-Normal-distribution)\n",
    "    * [5.2 Uniform distribution](#5.2-Uniform-distribution)\n",
    "    * [5.3 Triangular distribution](#5.3-Triangular-distribution)\n",
    "* [6. Steps for performing the Monte Carlo Method](#6.-Steps-for-performing-the-Monte-Carlo-Method)\n",
    "    * [6.1 Establish the mathematical model](#6.1-Establish-the-mathematical-model)\n",
    "    * [6.2 Determine the input values](#6.2-Determine-the-input-values)\n",
    "    * [6.3 Create a sample dataset](#6.3-Create-a-sample-dataset)\n",
    "    * [6.4 Set up the Monte Carlo Method software](#6.4-Set-up-the-Monte-Carlo-Method-software)\n",
    "    * [6.5 Analyze the results](#6.5.-Analyze-the-results)\n",
    "* [7. Advanced techniques and Applications](#7.-Advanced-techniques-and-Applications)\n",
    "    * [7.1 Importance Sampling](#7.1-Importance-Sampling)\n",
    "    * [7.2 Markov Chain Monte Carlo (MCMC)](#7.2-Markov-Chain-Monte-Carlo-(MCMC))\n",
    "    * [7.3 Applications](#7.3.-Applications)\n",
    "* [8. Advantages and Disadvantages of a Monte Carlo Method](#8.-Advantages-and-Disadvantages-of-a-Monte-Carlo-Method)\n",
    "    * [8.1 Advantages of Monte Carlo methods](#8.1-Advantages-of-Monte-Carlo-methods)\n",
    "    * [8.2 Disadvantages of Monte Carlo methods](#8.2-Disadvantages-of-Monte-Carlo-methods)\n",
    "* [9. Implementation examples of Monte Carlo methods](#9.-Implementation-examples-of-Monte-Carlo-methods)\n",
    "    * [9.1 Monte Carlo Method for Estimating the Value of $\\pi$](#9.1-Monte-Carlo-Method-for-Estimating-the-Value-of-$\\pi$)\n",
    "    * [9.2 Monte Carlo Method for Estimating the value of an integral](#9.2-Monte-Carlo-Method-for-Estimating-the-value-of-an-integral)"
   ]
  },
  {
   "cell_type": "markdown",
   "id": "0f28eeae",
   "metadata": {},
   "source": [
    "***"
   ]
  },
  {
   "cell_type": "markdown",
   "id": "0d000138",
   "metadata": {},
   "source": [
    "# 1. What is the Monte Carlo Method? "
   ]
  },
  {
   "cell_type": "markdown",
   "id": "19ab3f5e",
   "metadata": {},
   "source": [
    "Monte Carlo methods, are a broad class of computational algorithms that rely on repeated random sampling to obtain numerical results. The underlying concept is to use randomness to solve problems that might be deterministic in principle. They are often used in physical and mathematical problems and are most useful when it is difficult or impossible to use other approaches. Monte Carlo methods are mainly used in three problem classes: \n",
    "* Optimization\n",
    "* Numerical integration\n",
    "* Generating draws from a probability distribution"
   ]
  },
  {
   "cell_type": "markdown",
   "id": "96fa01de",
   "metadata": {},
   "source": [
    "# 2. Why is the Monte Carlo Method important?"
   ]
  },
  {
   "cell_type": "markdown",
   "id": "c7acb862",
   "metadata": {},
   "source": [
    "One of the key benefits of the Monte Carlo method is its ability to provide a comprehensive picture of the range of possible outcomes. In situations where there are multiple factors at play, such as in financial risk analysis, the Monte Carlo simulation can help us to understand the probability of each possible outcome. This can be especially useful in decision-making, as it allows us to consider a wide range of scenarios and make more informed choices."
   ]
  },
  {
   "cell_type": "markdown",
   "id": "0fcd6e9a",
   "metadata": {},
   "source": [
    "## 2.1 Advantages of the Monte Carlo Method"
   ]
  },
  {
   "cell_type": "markdown",
   "id": "200b51e5",
   "metadata": {},
   "source": [
    "The Monte Carlo simulation provides multiple possible outcomes and the probability of each from a large pool of random data samples. It offers a clearer picture than a deterministic forecast. For instance, forecasting financial risks requires analyzing dozens or hundreds of risk factors. Financial analysts use the Monte Carlo simulation to produce the probability of every possible outcome. "
   ]
  },
  {
   "cell_type": "markdown",
   "id": "8242d1d3",
   "metadata": {},
   "source": [
    "## 2.2 Evolution of the Monte Carlo Method"
   ]
  },
  {
   "cell_type": "markdown",
   "id": "7797b77c",
   "metadata": {},
   "source": [
    "The Monte Carlo method was developed by John von Neumann and Stanislaw Ulam during the 1940s. They named it after the famous gambling destination of Monaco, as the method shares a similar randomness characteristic as a game of chance. It has since evolved to be widely used in various scientific fields, including physics, finance and engineering."
   ]
  },
  {
   "cell_type": "markdown",
   "id": "c6da8827",
   "metadata": {},
   "source": [
    "# 3. How the Monte Carlo Method works"
   ]
  },
  {
   "cell_type": "markdown",
   "id": "f0d5c1c4",
   "metadata": {},
   "source": [
    "The basic principle of the Monte Carlo simulation lies in ergodicity, which describes the statistical behavior of a moving point in an enclosed system. The moving point will eventually pass through every possible location in an ergodic system. This becomes the basis of the Monte Carlo simulation, in which the computer runs enough simulations to produce the eventual outcome of different inputs.\n",
    "\n",
    ">Ergodic refers to a system or process that is both stationary and recurrent, meaning that it returns to its initial state over time. In the context of mathematics, ergodic theory is the branch of mathematics that studies such systems, including their long-term behavior and statistical properties. In physics, ergodicity is the property of a system that, over time, explores all of its accessible states and evolves to a state of equilibrium.\n",
    "\n",
    "For example, a six-sided die has a one-sixth chance of landing on a specific number. When you roll the die six times, you might not land the die on six different numbers. However, you will achieve the theoretical probability of one-sixth for each number when you continue indefinitely rolling. The result accuracy is proportional to the number of simulations. In other words, running 10,000 simulations produces more accurate results than 100 simulations. \n",
    "\n",
    "The Monte Carlo simulation works the same way. It uses a computer system to run enough simulations to produce different outcomes that mimic real-life results. The system uses random number generators to recreate the inherent uncertainty of the input parameters. Random number generators are computer programs that produce an unpredictable sequence of random numbers. "
   ]
  },
  {
   "cell_type": "markdown",
   "id": "02428257",
   "metadata": {},
   "source": [
    "## 3.1 The Monte Carlo Method compared to Machine Learning"
   ]
  },
  {
   "cell_type": "markdown",
   "id": "31e529f4",
   "metadata": {},
   "source": [
    "While the Monte Carlo method and Machine Learning (ML) may seem similar, they have distinct differences. Machine Learning relies on training a model using a large sample of input and output data, while the Monte Carlo method uses samples of input data and a known mathematical model to predict probable outcomes in a system. In other words, the Monte Carlo method can be used to validate the results obtained through ML."
   ]
  },
  {
   "cell_type": "markdown",
   "id": "b6ad1723",
   "metadata": {},
   "source": [
    "# 4. Components of a Monte Carlo Method"
   ]
  },
  {
   "cell_type": "markdown",
   "id": "5416d7c2",
   "metadata": {},
   "source": [
    "A Monte Carlo analysis consists of three main components: input variables, output variables, and a mathematical model. The computer system uses the input variables, which are random values that affect the outcome of the simulation, as inputs for the mathematical model. This model then produces the output variables, which are the results of the analysis."
   ]
  },
  {
   "cell_type": "markdown",
   "id": "c293208e",
   "metadata": {},
   "source": [
    "## 4.1 Input variables"
   ]
  },
  {
   "cell_type": "markdown",
   "id": "b96fdc8f",
   "metadata": {},
   "source": [
    "Input variables are the random values that affect the outcome of the simulation. These can include factors such as manufacturing quality and temperature, which influence the durability of a smartphone. These variables are typically expressed as a range of random value samples, so that the Monte Carlo method can simulate the results using different inputs."
   ]
  },
  {
   "cell_type": "markdown",
   "id": "39d3aa1c",
   "metadata": {},
   "source": [
    "## 4.2 Output variable"
   ]
  },
  {
   "cell_type": "markdown",
   "id": "084c36de",
   "metadata": {},
   "source": [
    "The output variable is the result of the Monte Carlo analysis. For example, the life expectancy of an electronic device is an output variable. The Monte Carlo simulation software presents the output variable in a histogram or graph, which distributes the results in a continuous range on the horizontal axis."
   ]
  },
  {
   "cell_type": "markdown",
   "id": "e765f146",
   "metadata": {},
   "source": [
    "## 4.3 Mathematical model"
   ]
  },
  {
   "cell_type": "markdown",
   "id": "521d01f2",
   "metadata": {},
   "source": [
    "A mathematical model is an equation that describes the relationship between output and input variables in mathematical form. For example, the mathematical model for profitability is Profit = Revenue − Expenses.\n",
    "\n",
    "The Monte Carlo software replaces revenue and expenses with probable values based on the probability distribution type. Then it repeats the simulation to get a highly accurate result. The Monte Carlo simulation can run for hours when the mathematical model involves many random variables. "
   ]
  },
  {
   "cell_type": "markdown",
   "id": "e0ee1e00",
   "metadata": {},
   "source": [
    "# 5. Probability distributions in the Monte Carlo Method"
   ]
  },
  {
   "cell_type": "markdown",
   "id": "6aa18f08",
   "metadata": {},
   "source": [
    "Probability distributions are statistical functions that describe the range of possible values for an uncertain variable. These distributions can be either discrete or continuous. Statisticians use probability distributions to predict the likelihood of different outcomes."
   ]
  },
  {
   "cell_type": "markdown",
   "id": "ce4932f5",
   "metadata": {},
   "source": [
    "## 5.1 Normal distribution"
   ]
  },
  {
   "cell_type": "markdown",
   "id": "ddb80c25",
   "metadata": {},
   "source": [
    "The normal distribution, also known as the bell curve, is a symmetric distribution that is commonly used to model real-life events. The probability of a random variable being close to the median is high, while the probability decreases as you move away from the median. For example, the heights of students in a class will likely follow a normal distribution."
   ]
  },
  {
   "cell_type": "markdown",
   "id": "3b5a1049",
   "metadata": {},
   "source": [
    "## 5.2 Uniform distribution"
   ]
  },
  {
   "cell_type": "markdown",
   "id": "9eacb668",
   "metadata": {},
   "source": [
    "The uniform distribution represents a scenario where all outcomes have an equal chance of occurring. When plotted on a graph, a uniformly distributed variable will appear as a flat line across the range of possible values. For example, the likelihood of rolling each number on a fair die is a uniform distribution."
   ]
  },
  {
   "cell_type": "markdown",
   "id": "9c93836b",
   "metadata": {},
   "source": [
    "## 5.3 Triangular distribution"
   ]
  },
  {
   "cell_type": "markdown",
   "id": "38da0a6f",
   "metadata": {},
   "source": [
    "The triangular distribution uses a minimum, maximum, and most-likely value to model a random variable. The probability peaks at the most-likely value. For example, a company might use a triangular distribution to predict future sales volume by identifying the minimum, maximum, and most-likely values."
   ]
  },
  {
   "cell_type": "markdown",
   "id": "916cc183",
   "metadata": {},
   "source": [
    "# 6. Steps for performing the Monte Carlo Method"
   ]
  },
  {
   "cell_type": "markdown",
   "id": "79f3811f",
   "metadata": {},
   "source": [
    "The Monte Carlo method involves the following steps."
   ]
  },
  {
   "cell_type": "markdown",
   "id": "08f43f16",
   "metadata": {},
   "source": [
    "## 6.1 Establish the mathematical model"
   ]
  },
  {
   "cell_type": "markdown",
   "id": "867c98af",
   "metadata": {},
   "source": [
    "Define an equation that relates the output and input variables. This can be a simple mathematical formula or a complex scientific equation."
   ]
  },
  {
   "cell_type": "markdown",
   "id": "db406de4",
   "metadata": {},
   "source": [
    "## 6.2 Determine the input values"
   ]
  },
  {
   "cell_type": "markdown",
   "id": "4827363b",
   "metadata": {},
   "source": [
    "Select the appropriate probability distribution(s) to represent the input values. For example, the operating temperature of a mobile phone is likely to be normally distributed since the device runs at room temperature most of the time."
   ]
  },
  {
   "cell_type": "markdown",
   "id": "f5dba874",
   "metadata": {},
   "source": [
    "## 6.3 Create a sample dataset"
   ]
  },
  {
   "cell_type": "markdown",
   "id": "f4383a48",
   "metadata": {},
   "source": [
    "Generate a large dataset of random samples based on the chosen probability distribution(s). The sample size should be in the range of 100,000 to produce accurate results."
   ]
  },
  {
   "cell_type": "markdown",
   "id": "0b23b4fa",
   "metadata": {},
   "source": [
    "## 6.4 Set up the Monte Carlo Method software"
   ]
  },
  {
   "cell_type": "markdown",
   "id": "c9e63f25",
   "metadata": {},
   "source": [
    "Use the input samples and mathematical model to configure and run the Monte Carlo simulation software. The time required to produce results can vary depending on the number of input variables and the complexity of the mathematical model."
   ]
  },
  {
   "cell_type": "markdown",
   "id": "e3cd396e",
   "metadata": {},
   "source": [
    "## 6.5 Analyze the results"
   ]
  },
  {
   "cell_type": "markdown",
   "id": "c3fc4e0c",
   "metadata": {},
   "source": [
    "Review the simulated results to see how the output variable is distributed. Use statistical tools to calculate parameters such as mean value, standard deviation, and variance to determine whether the results fall within your expectations."
   ]
  },
  {
   "cell_type": "markdown",
   "id": "8566e26f",
   "metadata": {},
   "source": [
    "# 7. Advanced techniques and Applications\n",
    "The Monte Carlo method is not limited to simple simulations, it can also be applied in more complex scenarios with the use of advanced techniques."
   ]
  },
  {
   "cell_type": "markdown",
   "id": "bebd71e6",
   "metadata": {},
   "source": [
    "## 7.1 Importance Sampling\n",
    "\n",
    "Importance Sampling is a method that allows for more efficient estimation of rare events by weighting the samples based on their likelihood of occurrence. This is particularly useful in simulations where certain outcomes are much less likely than others."
   ]
  },
  {
   "cell_type": "markdown",
   "id": "54ef0cb5",
   "metadata": {},
   "source": [
    "## 7.2 Markov Chain Monte Carlo (MCMC)\n",
    "\n",
    "Markov Chain Monte Carlo (MCMC) is a powerful technique that allows for efficient sampling of complex probability distributions. This method generates a sequence of samples, called a Markov chain, that converges to the target distribution over time. MCMC is widely used in Bayesian inference and statistical physics."
   ]
  },
  {
   "cell_type": "markdown",
   "id": "2ed794c6",
   "metadata": {},
   "source": [
    "## 7.3 Applications\n",
    "The Monte Carlo method has a wide range of applications in various fields, such as **finance**, **engineering**, **physics**, **statistics**, and **computer science**.<br> \n",
    "* In finance, it is used to estimate the value of derivatives and to assess financial risks.<br>\n",
    "* In engineering, it is used to optimize the design of systems and to model complex physical phenomena.<br> \n",
    "* In physics, it is used to study the behavior of particles and to simulate complex systems.<br> \n",
    "* In computer science, it is used to model complex algorithms and to simulate the behavior of computer systems."
   ]
  },
  {
   "cell_type": "markdown",
   "id": "2af480d2",
   "metadata": {},
   "source": [
    "# 8. Advantages and Disadvantages of a Monte Carlo Method"
   ]
  },
  {
   "cell_type": "markdown",
   "id": "fc190fc8",
   "metadata": {},
   "source": [
    "## 8.1 Advantages of Monte Carlo methods"
   ]
  },
  {
   "cell_type": "markdown",
   "id": "abd16ceb",
   "metadata": {},
   "source": [
    "* Monte Carlo methods can be used to solve problems with a high number of dimensions and parameters.\n",
    "<br>\n",
    "\n",
    "* They can estimate a wide range of quantities, including probabilities, expectations, and variances.\n",
    "<br>\n",
    "\n",
    "* They are versatile and can be applied to a wide range of fields, from physics and engineering to finance and economics."
   ]
  },
  {
   "cell_type": "markdown",
   "id": "b3d3eca7",
   "metadata": {},
   "source": [
    "## 8.2 Disadvantages of Monte Carlo methods"
   ]
  },
  {
   "cell_type": "markdown",
   "id": "4a1fa0b2",
   "metadata": {},
   "source": [
    "* Monte Carlo methods can require a large number of simulations to achieve a desired level of accuracy.\n",
    "<br>\n",
    "\n",
    "* They can be computationally intensive, especially for high-dimensional problems.\n",
    "<br>\n",
    "\n",
    "* The results can be sensitive to the choice of random number generator and the initialization of the simulation.\n",
    "<br>\n",
    "\n",
    "* They can be challenging to implement, especially when the underlying distribution is complex or unknown."
   ]
  },
  {
   "cell_type": "markdown",
   "id": "4505c295",
   "metadata": {},
   "source": [
    "# 9. Implementation examples of Monte Carlo methods"
   ]
  },
  {
   "cell_type": "markdown",
   "id": "39f61e67",
   "metadata": {},
   "source": [
    "## 9.1 Monte Carlo Method for Estimating the Value of $\\pi$"
   ]
  },
  {
   "cell_type": "markdown",
   "id": "10e36ac3",
   "metadata": {},
   "source": [
    "In this example we provided a solution that performs a Monte Carlo Method to estimate the value of $\\pi$."
   ]
  },
  {
   "cell_type": "markdown",
   "id": "e70393a6",
   "metadata": {},
   "source": [
    "We starts with importing the required libraries, which in this case are the random and matplotlib libraries."
   ]
  },
  {
   "cell_type": "code",
   "execution_count": 1,
   "id": "af52b27d",
   "metadata": {},
   "outputs": [],
   "source": [
    "import random\n",
    "import matplotlib.pyplot as plt"
   ]
  },
  {
   "cell_type": "markdown",
   "id": "c3f64b63",
   "metadata": {},
   "source": [
    "We defines the number of iterations to perform and the number of points to generate in each iteration."
   ]
  },
  {
   "cell_type": "code",
   "execution_count": 2,
   "id": "6b1bdfaa",
   "metadata": {},
   "outputs": [],
   "source": [
    "# Number of iterations to perform\n",
    "iterations = 1000"
   ]
  },
  {
   "cell_type": "code",
   "execution_count": 3,
   "id": "393099ee",
   "metadata": {},
   "outputs": [],
   "source": [
    "# Number of points to generate in each iteration\n",
    "n = 1000"
   ]
  },
  {
   "cell_type": "markdown",
   "id": "3074ad59",
   "metadata": {},
   "source": [
    "Then creates empty lists, for storing value and plotting it later."
   ]
  },
  {
   "cell_type": "code",
   "execution_count": 4,
   "id": "17a5e5a6",
   "metadata": {},
   "outputs": [],
   "source": [
    "# Lists to store the estimated value of pi and the number of points\n",
    "pi_estimates = []\n",
    "points = []\n",
    "\n",
    "# Lists to store the x and y coordinates of the points\n",
    "x_points = []\n",
    "y_points = []"
   ]
  },
  {
   "cell_type": "markdown",
   "id": "84fd0438",
   "metadata": {},
   "source": [
    "After that we perform a for loop for the specified number of iterations, in each iteration:\n",
    "* It initializes a variable to store the number of points inside the unit circle.\n",
    "* It enters another for loop for the number of points defined before, in each iteration:\n",
    "* It generates a random point (x, y) between -1 and 1 using the random.uniform() function.\n",
    "* It checks if the point is inside the unit circle by checking whether $x^{2} + y^{2}$ <= 1. If it is, it increments the variable that stores the number of points inside the unit circle.\n",
    "* It calculates the estimated value of π by multiplying the ratio of points inside the unit circle to the total number of points by 4.\n",
    ">The reason why the value of 4 is used in the calculation of the estimated value of π in this example is based on the geometry of the unit circle.\n",
    ">\n",
    ">The unit circle is a circle with radius 1, centered at the origin of a Cartesian coordinate system. The area of the unit circle is $\\pi * (1^{2}) = \\pi$. The area of the unit square (a square with sides of length 2 centered on the origin) is (2 * 2) = 4.\n",
    "* It appends the estimated value of $\\pi$ and the number of points in each iteration to the corresponding lists.\n",
    "* It increments the number of points generated in each iteration.\n",
    "\n",
    "The code also print the final estimated value of $\\pi$"
   ]
  },
  {
   "cell_type": "code",
   "execution_count": 5,
   "id": "fc3925a0",
   "metadata": {
    "scrolled": true
   },
   "outputs": [
    {
     "name": "stdout",
     "output_type": "stream",
     "text": [
      "----------------------------------------\n",
      "Estimated value of pi : 3.139808\n",
      "----------------------------------------\n"
     ]
    }
   ],
   "source": [
    "# Perform the Monte Carlo simulation\n",
    "for i in range(iterations):\n",
    "    # Number of points inside the unit circle\n",
    "    inside = 0\n",
    "    for j in range(n):\n",
    "        x = random.uniform(-1, 1)\n",
    "        y = random.uniform(-1, 1)\n",
    "        if i == iterations-1:\n",
    "            x_points.append(x)\n",
    "            y_points.append(y)\n",
    "        # Check if the point is inside the unit circle\n",
    "        if x*x + y*y <= 1:\n",
    "            inside += 1\n",
    "    # Use the ratio of points inside the unit circle to approximate pi\n",
    "    pi_estimate = 4 * inside / n\n",
    "    pi_estimates.append(pi_estimate)\n",
    "    points.append(n)\n",
    "    n += 1000\n",
    "print(\"-\"*40)\n",
    "print(f\"Estimated value of pi : {pi_estimate}\")\n",
    "print(\"-\"*40)"
   ]
  },
  {
   "cell_type": "markdown",
   "id": "48e43ee4",
   "metadata": {},
   "source": [
    "And we plots the evolution of $\\pi$ using matplotlib. The plot will help we to understand how the accuracy of the estimate improves as the number of samples increases."
   ]
  },
  {
   "cell_type": "code",
   "execution_count": 6,
   "id": "17cbedc0",
   "metadata": {},
   "outputs": [
    {
     "data": {
      "image/png": "[encoded data removed]",
      "text/plain": [
       "<Figure size 640x480 with 1 Axes>"
      ]
     },
     "metadata": {},
     "output_type": "display_data"
    }
   ],
   "source": [
    "# Plot the evolution of the estimated value of pi\n",
    "plt.plot(points, pi_estimates)\n",
    "plt.xlabel('Number of points')\n",
    "plt.ylabel('Estimated value of pi')\n",
    "plt.show()"
   ]
  },
  {
   "cell_type": "code",
   "execution_count": 7,
   "id": "92aa9277",
   "metadata": {
    "scrolled": false
   },
   "outputs": [
    {
     "data": {
      "image/png": "[encoded data removed]",
      "text/plain": [
       "<Figure size 640x480 with 1 Axes>"
      ]
     },
     "metadata": {},
     "output_type": "display_data"
    }
   ],
   "source": [
    "# Plot the points\n",
    "plt.title(f\"Plot the final iteration ( {len(x_points)} points )\")\n",
    "plt.scatter(x_points, y_points, s=1)\n",
    "# Plot the unit circle for reference\n",
    "circle = plt.Circle((0, 0), 1, color='r', fill=False)\n",
    "plt.gcf().gca().add_artist(circle)\n",
    "plt.axis('equal')\n",
    "plt.show()"
   ]
  },
  {
   "cell_type": "markdown",
   "id": "f2688361",
   "metadata": {},
   "source": [
    "## 9.2 Monte Carlo Method for Estimating the value of an integral"
   ]
  },
  {
   "cell_type": "markdown",
   "id": "f84ba4dd",
   "metadata": {},
   "source": [
    "The goal of this example is to use the Monte Carlo method to estimate the value of an integral. The integral is given by the function $f(x) = x^2$, over the interval $[0,1]$."
   ]
  },
  {
   "cell_type": "code",
   "execution_count": 8,
   "id": "14e9b04b",
   "metadata": {},
   "outputs": [],
   "source": [
    "import numpy as np"
   ]
  },
  {
   "cell_type": "markdown",
   "id": "13bac4ae",
   "metadata": {},
   "source": [
    "**Defining the function and the interval:**"
   ]
  },
  {
   "cell_type": "code",
   "execution_count": 9,
   "id": "8a4f34fe",
   "metadata": {},
   "outputs": [],
   "source": [
    "def f(x):\n",
    "    return x ** 2\n",
    "\n",
    "a, b = 0, 1"
   ]
  },
  {
   "cell_type": "markdown",
   "id": "83c3eee2",
   "metadata": {},
   "source": [
    "**Defining the number of iterations to perform** <br>"
   ]
  },
  {
   "cell_type": "code",
   "execution_count": 10,
   "id": "78c84c66",
   "metadata": {},
   "outputs": [],
   "source": [
    "iterations = 1000000"
   ]
  },
  {
   "cell_type": "markdown",
   "id": "0fad6903",
   "metadata": {},
   "source": [
    "Create empty lists for storing the estimated value of the integral and the number of points in each iteration."
   ]
  },
  {
   "cell_type": "code",
   "execution_count": 11,
   "id": "5f9de798",
   "metadata": {},
   "outputs": [],
   "source": [
    "estimated_integral = 0\n",
    "x_points = []\n",
    "y_points = []"
   ]
  },
  {
   "cell_type": "markdown",
   "id": "a9d919fa",
   "metadata": {},
   "source": [
    "**Perform a for loop for the specified number of iterations, in each iteration:**\n",
    "* Generate random points between a and b using numpy's random.uniform() function.\n",
    "* Calculate the estimated value of the integral by taking the average of f(x) for each point and multiplying by the width of the interval (b-a).\n",
    "* Append the estimated value of the integral and the number of points in each iteration to the corresponding lists.\n",
    "* Increment the number of points generated in each iteration."
   ]
  },
  {
   "cell_type": "code",
   "execution_count": 12,
   "id": "efda6e98",
   "metadata": {},
   "outputs": [],
   "source": [
    "for i in range(iterations):\n",
    "    # Generate a random point (x, y) between the limits of integration\n",
    "    x = np.random.uniform(a, b)\n",
    "    y = np.random.uniform(0, f(x))\n",
    "    if y <= f(x):\n",
    "        estimated_integral += (b-a)*f(x)/iterations\n",
    "        x_points.append(x)\n",
    "        y_points.append(y)"
   ]
  },
  {
   "cell_type": "markdown",
   "id": "cfed2eb0",
   "metadata": {},
   "source": [
    "final estimated value of the integral :"
   ]
  },
  {
   "cell_type": "code",
   "execution_count": 13,
   "id": "2e45ceaa",
   "metadata": {},
   "outputs": [
    {
     "name": "stdout",
     "output_type": "stream",
     "text": [
      "------------------------------------------------------------\n",
      "Estimated value of the integral : 0.3335975531896214\n",
      "------------------------------------------------------------\n"
     ]
    }
   ],
   "source": [
    "print(\"-\"*60)\n",
    "print(f\"Estimated value of the integral : {estimated_integral}\")\n",
    "print(\"-\"*60)"
   ]
  },
  {
   "cell_type": "markdown",
   "id": "610a1007",
   "metadata": {},
   "source": [
    "**Visualizing the results:**"
   ]
  },
  {
   "cell_type": "code",
   "execution_count": 14,
   "id": "33c9543e",
   "metadata": {},
   "outputs": [
    {
     "data": {
      "image/png": "[encoded data removed]",
      "text/plain": [
       "<Figure size 640x480 with 1 Axes>"
      ]
     },
     "metadata": {},
     "output_type": "display_data"
    }
   ],
   "source": [
    "# Plot the points\n",
    "plt.title(f\"The estimated value of integral\")\n",
    "plt.scatter(x_points, y_points, s=1)\n",
    "plt.xlabel('X')\n",
    "plt.ylabel('Y')\n",
    "plt.show()"
   ]
  }
 ],
 "metadata": {
  "kernelspec": {
   "display_name": "Python 3 (ipykernel)",
   "language": "python",
   "name": "python3"
  },
  "language_info": {
   "codemirror_mode": {
    "name": "ipython",
    "version": 3
   },
   "file_extension": ".py",
   "mimetype": "text/x-python",
   "name": "python",
   "nbconvert_exporter": "python",
   "pygments_lexer": "ipython3",
   "version": "3.10.8"
  }
 },
 "nbformat": 4,
 "nbformat_minor": 5
}
